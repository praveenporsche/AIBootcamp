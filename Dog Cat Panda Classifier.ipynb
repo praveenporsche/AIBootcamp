{
 "cells": [
  {
   "cell_type": "code",
   "execution_count": 61,
   "metadata": {},
   "outputs": [],
   "source": [
    "import cv2\n",
    "import os\n",
    "import numpy as np\n",
    "from imutils import paths\n",
    "import random"
   ]
  },
  {
   "cell_type": "code",
   "execution_count": 53,
   "metadata": {},
   "outputs": [],
   "source": [
    "images=sorted(list(paths.list_files('animals/')))"
   ]
  },
  {
   "cell_type": "code",
   "execution_count": 54,
   "metadata": {},
   "outputs": [
    {
     "data": {
      "text/plain": [
       "['animals/cats/cats_00001.jpg',\n",
       " 'animals/cats/cats_00002.jpg',\n",
       " 'animals/cats/cats_00003.jpg',\n",
       " 'animals/cats/cats_00004.jpg',\n",
       " 'animals/cats/cats_00005.jpg',\n",
       " 'animals/cats/cats_00006.jpg',\n",
       " 'animals/cats/cats_00007.jpg',\n",
       " 'animals/cats/cats_00008.jpg',\n",
       " 'animals/cats/cats_00009.jpg',\n",
       " 'animals/cats/cats_00010.jpg',\n",
       " 'animals/cats/cats_00011.jpg',\n",
       " 'animals/cats/cats_00012.jpg',\n",
       " 'animals/cats/cats_00013.jpg',\n",
       " 'animals/cats/cats_00014.jpg',\n",
       " 'animals/cats/cats_00015.jpg',\n",
       " 'animals/cats/cats_00016.jpg',\n",
       " 'animals/cats/cats_00017.jpg',\n",
       " 'animals/cats/cats_00018.jpg',\n",
       " 'animals/cats/cats_00019.jpg',\n",
       " 'animals/cats/cats_00020.jpg',\n",
       " 'animals/cats/cats_00021.jpg',\n",
       " 'animals/cats/cats_00022.jpg',\n",
       " 'animals/cats/cats_00023.jpg',\n",
       " 'animals/cats/cats_00024.jpg',\n",
       " 'animals/cats/cats_00025.jpg',\n",
       " 'animals/cats/cats_00026.jpg',\n",
       " 'animals/cats/cats_00027.jpg',\n",
       " 'animals/cats/cats_00028.jpg',\n",
       " 'animals/cats/cats_00029.jpg',\n",
       " 'animals/cats/cats_00030.jpg',\n",
       " 'animals/cats/cats_00031.jpg',\n",
       " 'animals/cats/cats_00032.jpg',\n",
       " 'animals/cats/cats_00033.jpg',\n",
       " 'animals/cats/cats_00034.jpg',\n",
       " 'animals/cats/cats_00035.jpg',\n",
       " 'animals/cats/cats_00036.jpg',\n",
       " 'animals/cats/cats_00037.jpg',\n",
       " 'animals/cats/cats_00038.jpg',\n",
       " 'animals/cats/cats_00039.jpg',\n",
       " 'animals/cats/cats_00040.jpg',\n",
       " 'animals/cats/cats_00041.jpg',\n",
       " 'animals/cats/cats_00042.jpg',\n",
       " 'animals/cats/cats_00043.jpg',\n",
       " 'animals/cats/cats_00044.jpg',\n",
       " 'animals/cats/cats_00045.jpg',\n",
       " 'animals/cats/cats_00046.jpg',\n",
       " 'animals/cats/cats_00047.jpg',\n",
       " 'animals/cats/cats_00048.jpg',\n",
       " 'animals/cats/cats_00049.jpg',\n",
       " 'animals/cats/cats_00050.jpg',\n",
       " 'animals/cats/cats_00051.jpg',\n",
       " 'animals/cats/cats_00052.jpg',\n",
       " 'animals/cats/cats_00053.jpg',\n",
       " 'animals/cats/cats_00054.jpg',\n",
       " 'animals/cats/cats_00055.jpg',\n",
       " 'animals/cats/cats_00056.jpg',\n",
       " 'animals/cats/cats_00057.jpg',\n",
       " 'animals/cats/cats_00058.jpg',\n",
       " 'animals/cats/cats_00059.jpg',\n",
       " 'animals/cats/cats_00060.jpg',\n",
       " 'animals/cats/cats_00061.jpg',\n",
       " 'animals/cats/cats_00062.jpg',\n",
       " 'animals/cats/cats_00063.jpg',\n",
       " 'animals/cats/cats_00064.jpg',\n",
       " 'animals/cats/cats_00065.jpg',\n",
       " 'animals/cats/cats_00066.jpg',\n",
       " 'animals/cats/cats_00067.jpg',\n",
       " 'animals/cats/cats_00068.jpg',\n",
       " 'animals/cats/cats_00069.jpg',\n",
       " 'animals/cats/cats_00070.jpg',\n",
       " 'animals/cats/cats_00071.jpg',\n",
       " 'animals/cats/cats_00072.jpg',\n",
       " 'animals/cats/cats_00073.jpg',\n",
       " 'animals/cats/cats_00074.jpg',\n",
       " 'animals/cats/cats_00075.jpg',\n",
       " 'animals/cats/cats_00076.jpg',\n",
       " 'animals/cats/cats_00077.jpg',\n",
       " 'animals/cats/cats_00078.jpg',\n",
       " 'animals/cats/cats_00079.jpg',\n",
       " 'animals/cats/cats_00080.jpg',\n",
       " 'animals/cats/cats_00081.jpg',\n",
       " 'animals/cats/cats_00082.jpg',\n",
       " 'animals/cats/cats_00083.jpg',\n",
       " 'animals/cats/cats_00084.jpg',\n",
       " 'animals/cats/cats_00085.jpg',\n",
       " 'animals/cats/cats_00086.jpg',\n",
       " 'animals/cats/cats_00087.jpg',\n",
       " 'animals/cats/cats_00088.jpg',\n",
       " 'animals/cats/cats_00089.jpg',\n",
       " 'animals/cats/cats_00090.jpg',\n",
       " 'animals/cats/cats_00091.jpg',\n",
       " 'animals/cats/cats_00092.jpg',\n",
       " 'animals/cats/cats_00093.jpg',\n",
       " 'animals/cats/cats_00094.jpg',\n",
       " 'animals/cats/cats_00095.jpg',\n",
       " 'animals/cats/cats_00096.jpg',\n",
       " 'animals/cats/cats_00097.jpg',\n",
       " 'animals/cats/cats_00098.jpg',\n",
       " 'animals/cats/cats_00099.jpg',\n",
       " 'animals/cats/cats_00100.jpg',\n",
       " 'animals/cats/cats_00101.jpg',\n",
       " 'animals/cats/cats_00102.jpg',\n",
       " 'animals/cats/cats_00103.jpg',\n",
       " 'animals/cats/cats_00104.jpg',\n",
       " 'animals/cats/cats_00105.jpg',\n",
       " 'animals/cats/cats_00106.jpg',\n",
       " 'animals/cats/cats_00107.jpg',\n",
       " 'animals/cats/cats_00108.jpg',\n",
       " 'animals/cats/cats_00109.jpg',\n",
       " 'animals/cats/cats_00110.jpg',\n",
       " 'animals/cats/cats_00111.jpg',\n",
       " 'animals/cats/cats_00112.jpg',\n",
       " 'animals/cats/cats_00113.jpg',\n",
       " 'animals/cats/cats_00114.jpg',\n",
       " 'animals/cats/cats_00115.jpg',\n",
       " 'animals/cats/cats_00116.jpg',\n",
       " 'animals/cats/cats_00117.jpg',\n",
       " 'animals/cats/cats_00118.jpg',\n",
       " 'animals/cats/cats_00119.jpg',\n",
       " 'animals/cats/cats_00120.jpg',\n",
       " 'animals/cats/cats_00121.jpg',\n",
       " 'animals/cats/cats_00122.jpg',\n",
       " 'animals/cats/cats_00123.jpg',\n",
       " 'animals/cats/cats_00124.jpg',\n",
       " 'animals/cats/cats_00125.jpg',\n",
       " 'animals/cats/cats_00126.jpg',\n",
       " 'animals/cats/cats_00127.jpg',\n",
       " 'animals/cats/cats_00128.jpg',\n",
       " 'animals/cats/cats_00129.jpg',\n",
       " 'animals/cats/cats_00130.jpg',\n",
       " 'animals/cats/cats_00131.jpg',\n",
       " 'animals/cats/cats_00132.jpg',\n",
       " 'animals/cats/cats_00133.jpg',\n",
       " 'animals/cats/cats_00134.jpg',\n",
       " 'animals/cats/cats_00135.jpg',\n",
       " 'animals/cats/cats_00136.jpg',\n",
       " 'animals/cats/cats_00137.jpg',\n",
       " 'animals/cats/cats_00138.jpg',\n",
       " 'animals/cats/cats_00139.jpg',\n",
       " 'animals/cats/cats_00140.jpg',\n",
       " 'animals/cats/cats_00141.jpg',\n",
       " 'animals/cats/cats_00142.jpg',\n",
       " 'animals/cats/cats_00143.jpg',\n",
       " 'animals/cats/cats_00144.jpg',\n",
       " 'animals/cats/cats_00145.jpg',\n",
       " 'animals/cats/cats_00146.jpg',\n",
       " 'animals/cats/cats_00147.jpg',\n",
       " 'animals/cats/cats_00148.jpg',\n",
       " 'animals/cats/cats_00149.jpg',\n",
       " 'animals/cats/cats_00150.jpg',\n",
       " 'animals/cats/cats_00151.jpg',\n",
       " 'animals/cats/cats_00152.jpg',\n",
       " 'animals/cats/cats_00153.jpg',\n",
       " 'animals/cats/cats_00154.jpg',\n",
       " 'animals/cats/cats_00155.jpg',\n",
       " 'animals/cats/cats_00156.jpg',\n",
       " 'animals/cats/cats_00157.jpg',\n",
       " 'animals/cats/cats_00158.jpg',\n",
       " 'animals/cats/cats_00159.jpg',\n",
       " 'animals/cats/cats_00160.jpg',\n",
       " 'animals/cats/cats_00161.jpg',\n",
       " 'animals/cats/cats_00162.jpg',\n",
       " 'animals/cats/cats_00163.jpg',\n",
       " 'animals/cats/cats_00164.jpg',\n",
       " 'animals/cats/cats_00165.jpg',\n",
       " 'animals/cats/cats_00166.jpg',\n",
       " 'animals/cats/cats_00167.jpg',\n",
       " 'animals/cats/cats_00168.jpg',\n",
       " 'animals/cats/cats_00169.jpg',\n",
       " 'animals/cats/cats_00170.jpg',\n",
       " 'animals/cats/cats_00171.jpg',\n",
       " 'animals/cats/cats_00172.jpg',\n",
       " 'animals/cats/cats_00173.jpg',\n",
       " 'animals/cats/cats_00174.jpg',\n",
       " 'animals/cats/cats_00175.jpg',\n",
       " 'animals/cats/cats_00176.jpg',\n",
       " 'animals/cats/cats_00177.jpg',\n",
       " 'animals/cats/cats_00178.jpg',\n",
       " 'animals/cats/cats_00179.jpg',\n",
       " 'animals/cats/cats_00180.jpg',\n",
       " 'animals/cats/cats_00181.jpg',\n",
       " 'animals/cats/cats_00182.jpg',\n",
       " 'animals/cats/cats_00183.jpg',\n",
       " 'animals/cats/cats_00184.jpg',\n",
       " 'animals/cats/cats_00185.jpg',\n",
       " 'animals/cats/cats_00186.jpg',\n",
       " 'animals/cats/cats_00187.jpg',\n",
       " 'animals/cats/cats_00188.jpg',\n",
       " 'animals/cats/cats_00189.jpg',\n",
       " 'animals/cats/cats_00190.jpg',\n",
       " 'animals/cats/cats_00191.jpg',\n",
       " 'animals/cats/cats_00192.jpg',\n",
       " 'animals/cats/cats_00193.jpg',\n",
       " 'animals/cats/cats_00194.jpg',\n",
       " 'animals/cats/cats_00195.jpg',\n",
       " 'animals/cats/cats_00196.jpg',\n",
       " 'animals/cats/cats_00197.jpg',\n",
       " 'animals/cats/cats_00198.jpg',\n",
       " 'animals/cats/cats_00199.jpg',\n",
       " 'animals/cats/cats_00200.jpg',\n",
       " 'animals/cats/cats_00201.jpg',\n",
       " 'animals/cats/cats_00202.jpg',\n",
       " 'animals/cats/cats_00203.jpg',\n",
       " 'animals/cats/cats_00204.jpg',\n",
       " 'animals/cats/cats_00205.jpg',\n",
       " 'animals/cats/cats_00206.jpg',\n",
       " 'animals/cats/cats_00207.jpg',\n",
       " 'animals/cats/cats_00208.jpg',\n",
       " 'animals/cats/cats_00209.jpg',\n",
       " 'animals/cats/cats_00210.jpg',\n",
       " 'animals/cats/cats_00211.jpg',\n",
       " 'animals/cats/cats_00212.jpg',\n",
       " 'animals/cats/cats_00213.jpg',\n",
       " 'animals/cats/cats_00214.jpg',\n",
       " 'animals/cats/cats_00215.jpg',\n",
       " 'animals/cats/cats_00216.jpg',\n",
       " 'animals/cats/cats_00217.jpg',\n",
       " 'animals/cats/cats_00218.jpg',\n",
       " 'animals/cats/cats_00219.jpg',\n",
       " 'animals/cats/cats_00220.jpg',\n",
       " 'animals/cats/cats_00221.jpg',\n",
       " 'animals/cats/cats_00222.jpg',\n",
       " 'animals/cats/cats_00223.jpg',\n",
       " 'animals/cats/cats_00224.jpg',\n",
       " 'animals/cats/cats_00225.jpg',\n",
       " 'animals/cats/cats_00226.jpg',\n",
       " 'animals/cats/cats_00227.jpg',\n",
       " 'animals/cats/cats_00228.jpg',\n",
       " 'animals/cats/cats_00229.jpg',\n",
       " 'animals/cats/cats_00230.jpg',\n",
       " 'animals/cats/cats_00231.jpg',\n",
       " 'animals/cats/cats_00232.jpg',\n",
       " 'animals/cats/cats_00233.jpg',\n",
       " 'animals/cats/cats_00234.jpg',\n",
       " 'animals/cats/cats_00235.jpg',\n",
       " 'animals/cats/cats_00236.jpg',\n",
       " 'animals/cats/cats_00237.jpg',\n",
       " 'animals/cats/cats_00238.jpg',\n",
       " 'animals/cats/cats_00239.jpg',\n",
       " 'animals/cats/cats_00240.jpg',\n",
       " 'animals/cats/cats_00241.jpg',\n",
       " 'animals/cats/cats_00242.jpg',\n",
       " 'animals/cats/cats_00243.jpg',\n",
       " 'animals/cats/cats_00244.jpg',\n",
       " 'animals/cats/cats_00245.jpg',\n",
       " 'animals/cats/cats_00246.jpg',\n",
       " 'animals/cats/cats_00247.jpg',\n",
       " 'animals/cats/cats_00248.jpg',\n",
       " 'animals/cats/cats_00249.jpg',\n",
       " 'animals/cats/cats_00250.jpg',\n",
       " 'animals/cats/cats_00251.jpg',\n",
       " 'animals/cats/cats_00252.jpg',\n",
       " 'animals/cats/cats_00253.jpg',\n",
       " 'animals/cats/cats_00254.jpg',\n",
       " 'animals/cats/cats_00255.jpg',\n",
       " 'animals/cats/cats_00256.jpg',\n",
       " 'animals/cats/cats_00257.jpg',\n",
       " 'animals/cats/cats_00258.jpg',\n",
       " 'animals/cats/cats_00259.jpg',\n",
       " 'animals/cats/cats_00260.jpg',\n",
       " 'animals/cats/cats_00261.jpg',\n",
       " 'animals/cats/cats_00262.jpg',\n",
       " 'animals/cats/cats_00263.jpg',\n",
       " 'animals/cats/cats_00264.jpg',\n",
       " 'animals/cats/cats_00265.jpg',\n",
       " 'animals/cats/cats_00266.jpg',\n",
       " 'animals/cats/cats_00267.jpg',\n",
       " 'animals/cats/cats_00268.jpg',\n",
       " 'animals/cats/cats_00269.jpg',\n",
       " 'animals/cats/cats_00270.jpg',\n",
       " 'animals/cats/cats_00271.jpg',\n",
       " 'animals/cats/cats_00272.jpg',\n",
       " 'animals/cats/cats_00273.jpg',\n",
       " 'animals/cats/cats_00274.jpg',\n",
       " 'animals/cats/cats_00275.jpg',\n",
       " 'animals/cats/cats_00276.jpg',\n",
       " 'animals/cats/cats_00277.jpg',\n",
       " 'animals/cats/cats_00278.jpg',\n",
       " 'animals/cats/cats_00279.jpg',\n",
       " 'animals/cats/cats_00280.jpg',\n",
       " 'animals/cats/cats_00281.jpg',\n",
       " 'animals/cats/cats_00282.jpg',\n",
       " 'animals/cats/cats_00283.jpg',\n",
       " 'animals/cats/cats_00284.jpg',\n",
       " 'animals/cats/cats_00285.jpg',\n",
       " 'animals/cats/cats_00286.jpg',\n",
       " 'animals/cats/cats_00287.jpg',\n",
       " 'animals/cats/cats_00288.jpg',\n",
       " 'animals/cats/cats_00289.jpg',\n",
       " 'animals/cats/cats_00290.jpg',\n",
       " 'animals/cats/cats_00291.jpg',\n",
       " 'animals/cats/cats_00292.jpg',\n",
       " 'animals/cats/cats_00293.jpg',\n",
       " 'animals/cats/cats_00294.jpg',\n",
       " 'animals/cats/cats_00295.jpg',\n",
       " 'animals/cats/cats_00296.jpg',\n",
       " 'animals/cats/cats_00297.jpg',\n",
       " 'animals/cats/cats_00298.jpg',\n",
       " 'animals/cats/cats_00299.jpg',\n",
       " 'animals/cats/cats_00300.jpg',\n",
       " 'animals/cats/cats_00301.jpg',\n",
       " 'animals/cats/cats_00302.jpg',\n",
       " 'animals/cats/cats_00303.jpg',\n",
       " 'animals/cats/cats_00304.jpg',\n",
       " 'animals/cats/cats_00305.jpg',\n",
       " 'animals/cats/cats_00306.jpg',\n",
       " 'animals/cats/cats_00307.jpg',\n",
       " 'animals/cats/cats_00308.jpg',\n",
       " 'animals/cats/cats_00309.jpg',\n",
       " 'animals/cats/cats_00310.jpg',\n",
       " 'animals/cats/cats_00311.jpg',\n",
       " 'animals/cats/cats_00312.jpg',\n",
       " 'animals/cats/cats_00313.jpg',\n",
       " 'animals/cats/cats_00314.jpg',\n",
       " 'animals/cats/cats_00315.jpg',\n",
       " 'animals/cats/cats_00316.jpg',\n",
       " 'animals/cats/cats_00317.jpg',\n",
       " 'animals/cats/cats_00318.jpg',\n",
       " 'animals/cats/cats_00319.jpg',\n",
       " 'animals/cats/cats_00320.jpg',\n",
       " 'animals/cats/cats_00321.jpg',\n",
       " 'animals/cats/cats_00322.jpg',\n",
       " 'animals/cats/cats_00323.jpg',\n",
       " 'animals/cats/cats_00324.jpg',\n",
       " 'animals/cats/cats_00325.jpg',\n",
       " 'animals/cats/cats_00326.jpg',\n",
       " 'animals/cats/cats_00327.jpg',\n",
       " 'animals/cats/cats_00328.jpg',\n",
       " 'animals/cats/cats_00329.jpg',\n",
       " 'animals/cats/cats_00330.jpg',\n",
       " 'animals/cats/cats_00331.jpg',\n",
       " 'animals/cats/cats_00332.jpg',\n",
       " 'animals/cats/cats_00333.jpg',\n",
       " 'animals/cats/cats_00334.jpg',\n",
       " 'animals/cats/cats_00335.jpg',\n",
       " 'animals/cats/cats_00336.jpg',\n",
       " 'animals/cats/cats_00337.jpg',\n",
       " 'animals/cats/cats_00338.jpg',\n",
       " 'animals/cats/cats_00339.jpg',\n",
       " 'animals/cats/cats_00340.jpg',\n",
       " 'animals/cats/cats_00341.jpg',\n",
       " 'animals/cats/cats_00342.jpg',\n",
       " 'animals/cats/cats_00343.jpg',\n",
       " 'animals/cats/cats_00344.jpg',\n",
       " 'animals/cats/cats_00345.jpg',\n",
       " 'animals/cats/cats_00346.jpg',\n",
       " 'animals/cats/cats_00347.jpg',\n",
       " 'animals/cats/cats_00348.jpg',\n",
       " 'animals/cats/cats_00349.jpg',\n",
       " 'animals/cats/cats_00350.jpg',\n",
       " 'animals/cats/cats_00351.jpg',\n",
       " 'animals/cats/cats_00352.jpg',\n",
       " 'animals/cats/cats_00353.jpg',\n",
       " 'animals/cats/cats_00354.jpg',\n",
       " 'animals/cats/cats_00355.jpg',\n",
       " 'animals/cats/cats_00356.jpg',\n",
       " 'animals/cats/cats_00357.jpg',\n",
       " 'animals/cats/cats_00358.jpg',\n",
       " 'animals/cats/cats_00359.jpg',\n",
       " 'animals/cats/cats_00360.jpg',\n",
       " 'animals/cats/cats_00361.jpg',\n",
       " 'animals/cats/cats_00362.jpg',\n",
       " 'animals/cats/cats_00363.jpg',\n",
       " 'animals/cats/cats_00364.jpg',\n",
       " 'animals/cats/cats_00365.jpg',\n",
       " 'animals/cats/cats_00366.jpg',\n",
       " 'animals/cats/cats_00367.jpg',\n",
       " 'animals/cats/cats_00368.jpg',\n",
       " 'animals/cats/cats_00369.jpg',\n",
       " 'animals/cats/cats_00370.jpg',\n",
       " 'animals/cats/cats_00371.jpg',\n",
       " 'animals/cats/cats_00372.jpg',\n",
       " 'animals/cats/cats_00373.jpg',\n",
       " 'animals/cats/cats_00374.jpg',\n",
       " 'animals/cats/cats_00375.jpg',\n",
       " 'animals/cats/cats_00376.jpg',\n",
       " 'animals/cats/cats_00377.jpg',\n",
       " 'animals/cats/cats_00378.jpg',\n",
       " 'animals/cats/cats_00379.jpg',\n",
       " 'animals/cats/cats_00380.jpg',\n",
       " 'animals/cats/cats_00381.jpg',\n",
       " 'animals/cats/cats_00382.jpg',\n",
       " 'animals/cats/cats_00383.jpg',\n",
       " 'animals/cats/cats_00384.jpg',\n",
       " 'animals/cats/cats_00385.jpg',\n",
       " 'animals/cats/cats_00386.jpg',\n",
       " 'animals/cats/cats_00387.jpg',\n",
       " 'animals/cats/cats_00388.jpg',\n",
       " 'animals/cats/cats_00389.jpg',\n",
       " 'animals/cats/cats_00390.jpg',\n",
       " 'animals/cats/cats_00391.jpg',\n",
       " 'animals/cats/cats_00392.jpg',\n",
       " 'animals/cats/cats_00393.jpg',\n",
       " 'animals/cats/cats_00394.jpg',\n",
       " 'animals/cats/cats_00395.jpg',\n",
       " 'animals/cats/cats_00396.jpg',\n",
       " 'animals/cats/cats_00397.jpg',\n",
       " 'animals/cats/cats_00398.jpg',\n",
       " 'animals/cats/cats_00399.jpg',\n",
       " 'animals/cats/cats_00400.jpg',\n",
       " 'animals/cats/cats_00401.jpg',\n",
       " 'animals/cats/cats_00402.jpg',\n",
       " 'animals/cats/cats_00403.jpg',\n",
       " 'animals/cats/cats_00404.jpg',\n",
       " 'animals/cats/cats_00405.jpg',\n",
       " 'animals/cats/cats_00406.jpg',\n",
       " 'animals/cats/cats_00407.jpg',\n",
       " 'animals/cats/cats_00408.jpg',\n",
       " 'animals/cats/cats_00409.jpg',\n",
       " 'animals/cats/cats_00410.jpg',\n",
       " 'animals/cats/cats_00411.jpg',\n",
       " 'animals/cats/cats_00412.jpg',\n",
       " 'animals/cats/cats_00413.jpg',\n",
       " 'animals/cats/cats_00414.jpg',\n",
       " 'animals/cats/cats_00415.jpg',\n",
       " 'animals/cats/cats_00416.jpg',\n",
       " 'animals/cats/cats_00417.jpg',\n",
       " 'animals/cats/cats_00418.jpg',\n",
       " 'animals/cats/cats_00419.jpg',\n",
       " 'animals/cats/cats_00420.jpg',\n",
       " 'animals/cats/cats_00421.jpg',\n",
       " 'animals/cats/cats_00422.jpg',\n",
       " 'animals/cats/cats_00423.jpg',\n",
       " 'animals/cats/cats_00424.jpg',\n",
       " 'animals/cats/cats_00425.jpg',\n",
       " 'animals/cats/cats_00426.jpg',\n",
       " 'animals/cats/cats_00427.jpg',\n",
       " 'animals/cats/cats_00428.jpg',\n",
       " 'animals/cats/cats_00429.jpg',\n",
       " 'animals/cats/cats_00430.jpg',\n",
       " 'animals/cats/cats_00431.jpg',\n",
       " 'animals/cats/cats_00432.jpg',\n",
       " 'animals/cats/cats_00433.jpg',\n",
       " 'animals/cats/cats_00434.jpg',\n",
       " 'animals/cats/cats_00435.jpg',\n",
       " 'animals/cats/cats_00436.jpg',\n",
       " 'animals/cats/cats_00437.jpg',\n",
       " 'animals/cats/cats_00438.jpg',\n",
       " 'animals/cats/cats_00439.jpg',\n",
       " 'animals/cats/cats_00440.jpg',\n",
       " 'animals/cats/cats_00441.jpg',\n",
       " 'animals/cats/cats_00442.jpg',\n",
       " 'animals/cats/cats_00443.jpg',\n",
       " 'animals/cats/cats_00444.jpg',\n",
       " 'animals/cats/cats_00445.jpg',\n",
       " 'animals/cats/cats_00446.jpg',\n",
       " 'animals/cats/cats_00447.jpg',\n",
       " 'animals/cats/cats_00448.jpg',\n",
       " 'animals/cats/cats_00449.jpg',\n",
       " 'animals/cats/cats_00450.jpg',\n",
       " 'animals/cats/cats_00451.jpg',\n",
       " 'animals/cats/cats_00452.jpg',\n",
       " 'animals/cats/cats_00453.jpg',\n",
       " 'animals/cats/cats_00454.jpg',\n",
       " 'animals/cats/cats_00455.jpg',\n",
       " 'animals/cats/cats_00456.jpg',\n",
       " 'animals/cats/cats_00457.jpg',\n",
       " 'animals/cats/cats_00458.jpg',\n",
       " 'animals/cats/cats_00459.jpg',\n",
       " 'animals/cats/cats_00460.jpg',\n",
       " 'animals/cats/cats_00461.jpg',\n",
       " 'animals/cats/cats_00462.jpg',\n",
       " 'animals/cats/cats_00463.jpg',\n",
       " 'animals/cats/cats_00464.jpg',\n",
       " 'animals/cats/cats_00465.jpg',\n",
       " 'animals/cats/cats_00466.jpg',\n",
       " 'animals/cats/cats_00467.jpg',\n",
       " 'animals/cats/cats_00468.jpg',\n",
       " 'animals/cats/cats_00469.jpg',\n",
       " 'animals/cats/cats_00470.jpg',\n",
       " 'animals/cats/cats_00471.jpg',\n",
       " 'animals/cats/cats_00472.jpg',\n",
       " 'animals/cats/cats_00473.jpg',\n",
       " 'animals/cats/cats_00474.jpg',\n",
       " 'animals/cats/cats_00475.jpg',\n",
       " 'animals/cats/cats_00476.jpg',\n",
       " 'animals/cats/cats_00477.jpg',\n",
       " 'animals/cats/cats_00478.jpg',\n",
       " 'animals/cats/cats_00479.jpg',\n",
       " 'animals/cats/cats_00480.jpg',\n",
       " 'animals/cats/cats_00481.jpg',\n",
       " 'animals/cats/cats_00482.jpg',\n",
       " 'animals/cats/cats_00483.jpg',\n",
       " 'animals/cats/cats_00484.jpg',\n",
       " 'animals/cats/cats_00485.jpg',\n",
       " 'animals/cats/cats_00486.jpg',\n",
       " 'animals/cats/cats_00487.jpg',\n",
       " 'animals/cats/cats_00488.jpg',\n",
       " 'animals/cats/cats_00489.jpg',\n",
       " 'animals/cats/cats_00490.jpg',\n",
       " 'animals/cats/cats_00491.jpg',\n",
       " 'animals/cats/cats_00492.jpg',\n",
       " 'animals/cats/cats_00493.jpg',\n",
       " 'animals/cats/cats_00494.jpg',\n",
       " 'animals/cats/cats_00495.jpg',\n",
       " 'animals/cats/cats_00496.jpg',\n",
       " 'animals/cats/cats_00497.jpg',\n",
       " 'animals/cats/cats_00498.jpg',\n",
       " 'animals/cats/cats_00499.jpg',\n",
       " 'animals/cats/cats_00500.jpg',\n",
       " 'animals/cats/cats_00501.jpg',\n",
       " 'animals/cats/cats_00502.jpg',\n",
       " 'animals/cats/cats_00503.jpg',\n",
       " 'animals/cats/cats_00504.jpg',\n",
       " 'animals/cats/cats_00505.jpg',\n",
       " 'animals/cats/cats_00506.jpg',\n",
       " 'animals/cats/cats_00507.jpg',\n",
       " 'animals/cats/cats_00508.jpg',\n",
       " 'animals/cats/cats_00509.jpg',\n",
       " 'animals/cats/cats_00510.jpg',\n",
       " 'animals/cats/cats_00511.jpg',\n",
       " 'animals/cats/cats_00512.jpg',\n",
       " 'animals/cats/cats_00513.jpg',\n",
       " 'animals/cats/cats_00514.jpg',\n",
       " 'animals/cats/cats_00515.jpg',\n",
       " 'animals/cats/cats_00516.jpg',\n",
       " 'animals/cats/cats_00517.jpg',\n",
       " 'animals/cats/cats_00518.jpg',\n",
       " 'animals/cats/cats_00519.jpg',\n",
       " 'animals/cats/cats_00520.jpg',\n",
       " 'animals/cats/cats_00521.jpg',\n",
       " 'animals/cats/cats_00522.jpg',\n",
       " 'animals/cats/cats_00523.jpg',\n",
       " 'animals/cats/cats_00524.jpg',\n",
       " 'animals/cats/cats_00525.jpg',\n",
       " 'animals/cats/cats_00526.jpg',\n",
       " 'animals/cats/cats_00527.jpg',\n",
       " 'animals/cats/cats_00528.jpg',\n",
       " 'animals/cats/cats_00529.jpg',\n",
       " 'animals/cats/cats_00530.jpg',\n",
       " 'animals/cats/cats_00531.jpg',\n",
       " 'animals/cats/cats_00532.jpg',\n",
       " 'animals/cats/cats_00533.jpg',\n",
       " 'animals/cats/cats_00534.jpg',\n",
       " 'animals/cats/cats_00535.jpg',\n",
       " 'animals/cats/cats_00536.jpg',\n",
       " 'animals/cats/cats_00537.jpg',\n",
       " 'animals/cats/cats_00538.jpg',\n",
       " 'animals/cats/cats_00539.jpg',\n",
       " 'animals/cats/cats_00540.jpg',\n",
       " 'animals/cats/cats_00541.jpg',\n",
       " 'animals/cats/cats_00542.jpg',\n",
       " 'animals/cats/cats_00543.jpg',\n",
       " 'animals/cats/cats_00544.jpg',\n",
       " 'animals/cats/cats_00545.jpg',\n",
       " 'animals/cats/cats_00546.jpg',\n",
       " 'animals/cats/cats_00547.jpg',\n",
       " 'animals/cats/cats_00548.jpg',\n",
       " 'animals/cats/cats_00549.jpg',\n",
       " 'animals/cats/cats_00550.jpg',\n",
       " 'animals/cats/cats_00551.jpg',\n",
       " 'animals/cats/cats_00552.jpg',\n",
       " 'animals/cats/cats_00553.jpg',\n",
       " 'animals/cats/cats_00554.jpg',\n",
       " 'animals/cats/cats_00555.jpg',\n",
       " 'animals/cats/cats_00556.jpg',\n",
       " 'animals/cats/cats_00557.jpg',\n",
       " 'animals/cats/cats_00558.jpg',\n",
       " 'animals/cats/cats_00559.jpg',\n",
       " 'animals/cats/cats_00560.jpg',\n",
       " 'animals/cats/cats_00561.jpg',\n",
       " 'animals/cats/cats_00562.jpg',\n",
       " 'animals/cats/cats_00563.jpg',\n",
       " 'animals/cats/cats_00564.jpg',\n",
       " 'animals/cats/cats_00565.jpg',\n",
       " 'animals/cats/cats_00566.jpg',\n",
       " 'animals/cats/cats_00567.jpg',\n",
       " 'animals/cats/cats_00568.jpg',\n",
       " 'animals/cats/cats_00569.jpg',\n",
       " 'animals/cats/cats_00570.jpg',\n",
       " 'animals/cats/cats_00571.jpg',\n",
       " 'animals/cats/cats_00572.jpg',\n",
       " 'animals/cats/cats_00573.jpg',\n",
       " 'animals/cats/cats_00574.jpg',\n",
       " 'animals/cats/cats_00575.jpg',\n",
       " 'animals/cats/cats_00576.jpg',\n",
       " 'animals/cats/cats_00577.jpg',\n",
       " 'animals/cats/cats_00578.jpg',\n",
       " 'animals/cats/cats_00579.jpg',\n",
       " 'animals/cats/cats_00580.jpg',\n",
       " 'animals/cats/cats_00581.jpg',\n",
       " 'animals/cats/cats_00582.jpg',\n",
       " 'animals/cats/cats_00583.jpg',\n",
       " 'animals/cats/cats_00584.jpg',\n",
       " 'animals/cats/cats_00585.jpg',\n",
       " 'animals/cats/cats_00586.jpg',\n",
       " 'animals/cats/cats_00587.jpg',\n",
       " 'animals/cats/cats_00588.jpg',\n",
       " 'animals/cats/cats_00589.jpg',\n",
       " 'animals/cats/cats_00590.jpg',\n",
       " 'animals/cats/cats_00591.jpg',\n",
       " 'animals/cats/cats_00592.jpg',\n",
       " 'animals/cats/cats_00593.jpg',\n",
       " 'animals/cats/cats_00594.jpg',\n",
       " 'animals/cats/cats_00595.jpg',\n",
       " 'animals/cats/cats_00596.jpg',\n",
       " 'animals/cats/cats_00597.jpg',\n",
       " 'animals/cats/cats_00598.jpg',\n",
       " 'animals/cats/cats_00599.jpg',\n",
       " 'animals/cats/cats_00600.jpg',\n",
       " 'animals/cats/cats_00601.jpg',\n",
       " 'animals/cats/cats_00602.jpg',\n",
       " 'animals/cats/cats_00603.jpg',\n",
       " 'animals/cats/cats_00604.jpg',\n",
       " 'animals/cats/cats_00605.jpg',\n",
       " 'animals/cats/cats_00606.jpg',\n",
       " 'animals/cats/cats_00607.jpg',\n",
       " 'animals/cats/cats_00608.jpg',\n",
       " 'animals/cats/cats_00609.jpg',\n",
       " 'animals/cats/cats_00610.jpg',\n",
       " 'animals/cats/cats_00611.jpg',\n",
       " 'animals/cats/cats_00612.jpg',\n",
       " 'animals/cats/cats_00613.jpg',\n",
       " 'animals/cats/cats_00614.jpg',\n",
       " 'animals/cats/cats_00615.jpg',\n",
       " 'animals/cats/cats_00616.jpg',\n",
       " 'animals/cats/cats_00617.jpg',\n",
       " 'animals/cats/cats_00618.jpg',\n",
       " 'animals/cats/cats_00619.jpg',\n",
       " 'animals/cats/cats_00620.jpg',\n",
       " 'animals/cats/cats_00621.jpg',\n",
       " 'animals/cats/cats_00622.jpg',\n",
       " 'animals/cats/cats_00623.jpg',\n",
       " 'animals/cats/cats_00624.jpg',\n",
       " 'animals/cats/cats_00625.jpg',\n",
       " 'animals/cats/cats_00626.jpg',\n",
       " 'animals/cats/cats_00627.jpg',\n",
       " 'animals/cats/cats_00628.jpg',\n",
       " 'animals/cats/cats_00629.jpg',\n",
       " 'animals/cats/cats_00630.jpg',\n",
       " 'animals/cats/cats_00631.jpg',\n",
       " 'animals/cats/cats_00632.jpg',\n",
       " 'animals/cats/cats_00633.jpg',\n",
       " 'animals/cats/cats_00634.jpg',\n",
       " 'animals/cats/cats_00635.jpg',\n",
       " 'animals/cats/cats_00636.jpg',\n",
       " 'animals/cats/cats_00637.jpg',\n",
       " 'animals/cats/cats_00638.jpg',\n",
       " 'animals/cats/cats_00639.jpg',\n",
       " 'animals/cats/cats_00640.jpg',\n",
       " 'animals/cats/cats_00641.jpg',\n",
       " 'animals/cats/cats_00642.jpg',\n",
       " 'animals/cats/cats_00643.jpg',\n",
       " 'animals/cats/cats_00644.jpg',\n",
       " 'animals/cats/cats_00645.jpg',\n",
       " 'animals/cats/cats_00646.jpg',\n",
       " 'animals/cats/cats_00647.jpg',\n",
       " 'animals/cats/cats_00648.jpg',\n",
       " 'animals/cats/cats_00649.jpg',\n",
       " 'animals/cats/cats_00650.jpg',\n",
       " 'animals/cats/cats_00651.jpg',\n",
       " 'animals/cats/cats_00652.jpg',\n",
       " 'animals/cats/cats_00653.jpg',\n",
       " 'animals/cats/cats_00654.jpg',\n",
       " 'animals/cats/cats_00655.jpg',\n",
       " 'animals/cats/cats_00656.jpg',\n",
       " 'animals/cats/cats_00657.jpg',\n",
       " 'animals/cats/cats_00658.jpg',\n",
       " 'animals/cats/cats_00659.jpg',\n",
       " 'animals/cats/cats_00660.jpg',\n",
       " 'animals/cats/cats_00661.jpg',\n",
       " 'animals/cats/cats_00662.jpg',\n",
       " 'animals/cats/cats_00663.jpg',\n",
       " 'animals/cats/cats_00664.jpg',\n",
       " 'animals/cats/cats_00665.jpg',\n",
       " 'animals/cats/cats_00666.jpg',\n",
       " 'animals/cats/cats_00667.jpg',\n",
       " 'animals/cats/cats_00668.jpg',\n",
       " 'animals/cats/cats_00669.jpg',\n",
       " 'animals/cats/cats_00670.jpg',\n",
       " 'animals/cats/cats_00671.jpg',\n",
       " 'animals/cats/cats_00672.jpg',\n",
       " 'animals/cats/cats_00673.jpg',\n",
       " 'animals/cats/cats_00674.jpg',\n",
       " 'animals/cats/cats_00675.jpg',\n",
       " 'animals/cats/cats_00676.jpg',\n",
       " 'animals/cats/cats_00677.jpg',\n",
       " 'animals/cats/cats_00678.jpg',\n",
       " 'animals/cats/cats_00679.jpg',\n",
       " 'animals/cats/cats_00680.jpg',\n",
       " 'animals/cats/cats_00681.jpg',\n",
       " 'animals/cats/cats_00682.jpg',\n",
       " 'animals/cats/cats_00683.jpg',\n",
       " 'animals/cats/cats_00684.jpg',\n",
       " 'animals/cats/cats_00685.jpg',\n",
       " 'animals/cats/cats_00686.jpg',\n",
       " 'animals/cats/cats_00687.jpg',\n",
       " 'animals/cats/cats_00688.jpg',\n",
       " 'animals/cats/cats_00689.jpg',\n",
       " 'animals/cats/cats_00690.jpg',\n",
       " 'animals/cats/cats_00691.jpg',\n",
       " 'animals/cats/cats_00692.jpg',\n",
       " 'animals/cats/cats_00693.jpg',\n",
       " 'animals/cats/cats_00694.jpg',\n",
       " 'animals/cats/cats_00695.jpg',\n",
       " 'animals/cats/cats_00696.jpg',\n",
       " 'animals/cats/cats_00697.jpg',\n",
       " 'animals/cats/cats_00698.jpg',\n",
       " 'animals/cats/cats_00699.jpg',\n",
       " 'animals/cats/cats_00700.jpg',\n",
       " 'animals/cats/cats_00701.jpg',\n",
       " 'animals/cats/cats_00702.jpg',\n",
       " 'animals/cats/cats_00703.jpg',\n",
       " 'animals/cats/cats_00704.jpg',\n",
       " 'animals/cats/cats_00705.jpg',\n",
       " 'animals/cats/cats_00706.jpg',\n",
       " 'animals/cats/cats_00707.jpg',\n",
       " 'animals/cats/cats_00708.jpg',\n",
       " 'animals/cats/cats_00709.jpg',\n",
       " 'animals/cats/cats_00710.jpg',\n",
       " 'animals/cats/cats_00711.jpg',\n",
       " 'animals/cats/cats_00712.jpg',\n",
       " 'animals/cats/cats_00713.jpg',\n",
       " 'animals/cats/cats_00714.jpg',\n",
       " 'animals/cats/cats_00715.jpg',\n",
       " 'animals/cats/cats_00716.jpg',\n",
       " 'animals/cats/cats_00717.jpg',\n",
       " 'animals/cats/cats_00718.jpg',\n",
       " 'animals/cats/cats_00719.jpg',\n",
       " 'animals/cats/cats_00720.jpg',\n",
       " 'animals/cats/cats_00721.jpg',\n",
       " 'animals/cats/cats_00722.jpg',\n",
       " 'animals/cats/cats_00723.jpg',\n",
       " 'animals/cats/cats_00724.jpg',\n",
       " 'animals/cats/cats_00725.jpg',\n",
       " 'animals/cats/cats_00726.jpg',\n",
       " 'animals/cats/cats_00727.jpg',\n",
       " 'animals/cats/cats_00728.jpg',\n",
       " 'animals/cats/cats_00729.jpg',\n",
       " 'animals/cats/cats_00730.jpg',\n",
       " 'animals/cats/cats_00731.jpg',\n",
       " 'animals/cats/cats_00732.jpg',\n",
       " 'animals/cats/cats_00733.jpg',\n",
       " 'animals/cats/cats_00734.jpg',\n",
       " 'animals/cats/cats_00735.jpg',\n",
       " 'animals/cats/cats_00736.jpg',\n",
       " 'animals/cats/cats_00737.jpg',\n",
       " 'animals/cats/cats_00738.jpg',\n",
       " 'animals/cats/cats_00739.jpg',\n",
       " 'animals/cats/cats_00740.jpg',\n",
       " 'animals/cats/cats_00741.jpg',\n",
       " 'animals/cats/cats_00742.jpg',\n",
       " 'animals/cats/cats_00743.jpg',\n",
       " 'animals/cats/cats_00744.jpg',\n",
       " 'animals/cats/cats_00745.jpg',\n",
       " 'animals/cats/cats_00746.jpg',\n",
       " 'animals/cats/cats_00747.jpg',\n",
       " 'animals/cats/cats_00748.jpg',\n",
       " 'animals/cats/cats_00749.jpg',\n",
       " 'animals/cats/cats_00750.jpg',\n",
       " 'animals/cats/cats_00751.jpg',\n",
       " 'animals/cats/cats_00752.jpg',\n",
       " 'animals/cats/cats_00753.jpg',\n",
       " 'animals/cats/cats_00754.jpg',\n",
       " 'animals/cats/cats_00755.jpg',\n",
       " 'animals/cats/cats_00756.jpg',\n",
       " 'animals/cats/cats_00757.jpg',\n",
       " 'animals/cats/cats_00758.jpg',\n",
       " 'animals/cats/cats_00759.jpg',\n",
       " 'animals/cats/cats_00760.jpg',\n",
       " 'animals/cats/cats_00761.jpg',\n",
       " 'animals/cats/cats_00762.jpg',\n",
       " 'animals/cats/cats_00763.jpg',\n",
       " 'animals/cats/cats_00764.jpg',\n",
       " 'animals/cats/cats_00765.jpg',\n",
       " 'animals/cats/cats_00766.jpg',\n",
       " 'animals/cats/cats_00767.jpg',\n",
       " 'animals/cats/cats_00768.jpg',\n",
       " 'animals/cats/cats_00769.jpg',\n",
       " 'animals/cats/cats_00770.jpg',\n",
       " 'animals/cats/cats_00771.jpg',\n",
       " 'animals/cats/cats_00772.jpg',\n",
       " 'animals/cats/cats_00773.jpg',\n",
       " 'animals/cats/cats_00774.jpg',\n",
       " 'animals/cats/cats_00775.jpg',\n",
       " 'animals/cats/cats_00776.jpg',\n",
       " 'animals/cats/cats_00777.jpg',\n",
       " 'animals/cats/cats_00778.jpg',\n",
       " 'animals/cats/cats_00779.jpg',\n",
       " 'animals/cats/cats_00780.jpg',\n",
       " 'animals/cats/cats_00781.jpg',\n",
       " 'animals/cats/cats_00782.jpg',\n",
       " 'animals/cats/cats_00783.jpg',\n",
       " 'animals/cats/cats_00784.jpg',\n",
       " 'animals/cats/cats_00785.jpg',\n",
       " 'animals/cats/cats_00786.jpg',\n",
       " 'animals/cats/cats_00787.jpg',\n",
       " 'animals/cats/cats_00788.jpg',\n",
       " 'animals/cats/cats_00789.jpg',\n",
       " 'animals/cats/cats_00790.jpg',\n",
       " 'animals/cats/cats_00791.jpg',\n",
       " 'animals/cats/cats_00792.jpg',\n",
       " 'animals/cats/cats_00793.jpg',\n",
       " 'animals/cats/cats_00794.jpg',\n",
       " 'animals/cats/cats_00795.jpg',\n",
       " 'animals/cats/cats_00796.jpg',\n",
       " 'animals/cats/cats_00797.jpg',\n",
       " 'animals/cats/cats_00798.jpg',\n",
       " 'animals/cats/cats_00799.jpg',\n",
       " 'animals/cats/cats_00800.jpg',\n",
       " 'animals/cats/cats_00801.jpg',\n",
       " 'animals/cats/cats_00802.jpg',\n",
       " 'animals/cats/cats_00803.jpg',\n",
       " 'animals/cats/cats_00804.jpg',\n",
       " 'animals/cats/cats_00805.jpg',\n",
       " 'animals/cats/cats_00806.jpg',\n",
       " 'animals/cats/cats_00807.jpg',\n",
       " 'animals/cats/cats_00808.jpg',\n",
       " 'animals/cats/cats_00809.jpg',\n",
       " 'animals/cats/cats_00810.jpg',\n",
       " 'animals/cats/cats_00811.jpg',\n",
       " 'animals/cats/cats_00812.jpg',\n",
       " 'animals/cats/cats_00813.jpg',\n",
       " 'animals/cats/cats_00814.jpg',\n",
       " 'animals/cats/cats_00815.jpg',\n",
       " 'animals/cats/cats_00816.jpg',\n",
       " 'animals/cats/cats_00817.jpg',\n",
       " 'animals/cats/cats_00818.jpg',\n",
       " 'animals/cats/cats_00819.jpg',\n",
       " 'animals/cats/cats_00820.jpg',\n",
       " 'animals/cats/cats_00821.jpg',\n",
       " 'animals/cats/cats_00822.jpg',\n",
       " 'animals/cats/cats_00823.jpg',\n",
       " 'animals/cats/cats_00824.jpg',\n",
       " 'animals/cats/cats_00825.jpg',\n",
       " 'animals/cats/cats_00826.jpg',\n",
       " 'animals/cats/cats_00827.jpg',\n",
       " 'animals/cats/cats_00828.jpg',\n",
       " 'animals/cats/cats_00829.jpg',\n",
       " 'animals/cats/cats_00830.jpg',\n",
       " 'animals/cats/cats_00831.jpg',\n",
       " 'animals/cats/cats_00832.jpg',\n",
       " 'animals/cats/cats_00833.jpg',\n",
       " 'animals/cats/cats_00834.jpg',\n",
       " 'animals/cats/cats_00835.jpg',\n",
       " 'animals/cats/cats_00836.jpg',\n",
       " 'animals/cats/cats_00837.jpg',\n",
       " 'animals/cats/cats_00838.jpg',\n",
       " 'animals/cats/cats_00839.jpg',\n",
       " 'animals/cats/cats_00840.jpg',\n",
       " 'animals/cats/cats_00841.jpg',\n",
       " 'animals/cats/cats_00842.jpg',\n",
       " 'animals/cats/cats_00843.jpg',\n",
       " 'animals/cats/cats_00844.jpg',\n",
       " 'animals/cats/cats_00845.jpg',\n",
       " 'animals/cats/cats_00846.jpg',\n",
       " 'animals/cats/cats_00847.jpg',\n",
       " 'animals/cats/cats_00848.jpg',\n",
       " 'animals/cats/cats_00849.jpg',\n",
       " 'animals/cats/cats_00850.jpg',\n",
       " 'animals/cats/cats_00851.jpg',\n",
       " 'animals/cats/cats_00852.jpg',\n",
       " 'animals/cats/cats_00853.jpg',\n",
       " 'animals/cats/cats_00854.jpg',\n",
       " 'animals/cats/cats_00855.jpg',\n",
       " 'animals/cats/cats_00856.jpg',\n",
       " 'animals/cats/cats_00857.jpg',\n",
       " 'animals/cats/cats_00858.jpg',\n",
       " 'animals/cats/cats_00859.jpg',\n",
       " 'animals/cats/cats_00860.jpg',\n",
       " 'animals/cats/cats_00861.jpg',\n",
       " 'animals/cats/cats_00862.jpg',\n",
       " 'animals/cats/cats_00863.jpg',\n",
       " 'animals/cats/cats_00864.jpg',\n",
       " 'animals/cats/cats_00865.jpg',\n",
       " 'animals/cats/cats_00866.jpg',\n",
       " 'animals/cats/cats_00867.jpg',\n",
       " 'animals/cats/cats_00868.jpg',\n",
       " 'animals/cats/cats_00869.jpg',\n",
       " 'animals/cats/cats_00870.jpg',\n",
       " 'animals/cats/cats_00871.jpg',\n",
       " 'animals/cats/cats_00872.jpg',\n",
       " 'animals/cats/cats_00873.jpg',\n",
       " 'animals/cats/cats_00874.jpg',\n",
       " 'animals/cats/cats_00875.jpg',\n",
       " 'animals/cats/cats_00876.jpg',\n",
       " 'animals/cats/cats_00877.jpg',\n",
       " 'animals/cats/cats_00878.jpg',\n",
       " 'animals/cats/cats_00879.jpg',\n",
       " 'animals/cats/cats_00880.jpg',\n",
       " 'animals/cats/cats_00881.jpg',\n",
       " 'animals/cats/cats_00882.jpg',\n",
       " 'animals/cats/cats_00883.jpg',\n",
       " 'animals/cats/cats_00884.jpg',\n",
       " 'animals/cats/cats_00885.jpg',\n",
       " 'animals/cats/cats_00886.jpg',\n",
       " 'animals/cats/cats_00887.jpg',\n",
       " 'animals/cats/cats_00888.jpg',\n",
       " 'animals/cats/cats_00889.jpg',\n",
       " 'animals/cats/cats_00890.jpg',\n",
       " 'animals/cats/cats_00891.jpg',\n",
       " 'animals/cats/cats_00892.jpg',\n",
       " 'animals/cats/cats_00893.jpg',\n",
       " 'animals/cats/cats_00894.jpg',\n",
       " 'animals/cats/cats_00895.jpg',\n",
       " 'animals/cats/cats_00896.jpg',\n",
       " 'animals/cats/cats_00897.jpg',\n",
       " 'animals/cats/cats_00898.jpg',\n",
       " 'animals/cats/cats_00899.jpg',\n",
       " 'animals/cats/cats_00900.jpg',\n",
       " 'animals/cats/cats_00901.jpg',\n",
       " 'animals/cats/cats_00902.jpg',\n",
       " 'animals/cats/cats_00903.jpg',\n",
       " 'animals/cats/cats_00904.jpg',\n",
       " 'animals/cats/cats_00905.jpg',\n",
       " 'animals/cats/cats_00906.jpg',\n",
       " 'animals/cats/cats_00907.jpg',\n",
       " 'animals/cats/cats_00908.jpg',\n",
       " 'animals/cats/cats_00909.jpg',\n",
       " 'animals/cats/cats_00910.jpg',\n",
       " 'animals/cats/cats_00911.jpg',\n",
       " 'animals/cats/cats_00912.jpg',\n",
       " 'animals/cats/cats_00913.jpg',\n",
       " 'animals/cats/cats_00914.jpg',\n",
       " 'animals/cats/cats_00915.jpg',\n",
       " 'animals/cats/cats_00916.jpg',\n",
       " 'animals/cats/cats_00917.jpg',\n",
       " 'animals/cats/cats_00918.jpg',\n",
       " 'animals/cats/cats_00919.jpg',\n",
       " 'animals/cats/cats_00920.jpg',\n",
       " 'animals/cats/cats_00921.jpg',\n",
       " 'animals/cats/cats_00922.jpg',\n",
       " 'animals/cats/cats_00923.jpg',\n",
       " 'animals/cats/cats_00924.jpg',\n",
       " 'animals/cats/cats_00925.jpg',\n",
       " 'animals/cats/cats_00926.jpg',\n",
       " 'animals/cats/cats_00927.jpg',\n",
       " 'animals/cats/cats_00928.jpg',\n",
       " 'animals/cats/cats_00929.jpg',\n",
       " 'animals/cats/cats_00930.jpg',\n",
       " 'animals/cats/cats_00931.jpg',\n",
       " 'animals/cats/cats_00932.jpg',\n",
       " 'animals/cats/cats_00933.jpg',\n",
       " 'animals/cats/cats_00934.jpg',\n",
       " 'animals/cats/cats_00935.jpg',\n",
       " 'animals/cats/cats_00936.jpg',\n",
       " 'animals/cats/cats_00937.jpg',\n",
       " 'animals/cats/cats_00938.jpg',\n",
       " 'animals/cats/cats_00939.jpg',\n",
       " 'animals/cats/cats_00940.jpg',\n",
       " 'animals/cats/cats_00941.jpg',\n",
       " 'animals/cats/cats_00942.jpg',\n",
       " 'animals/cats/cats_00943.jpg',\n",
       " 'animals/cats/cats_00944.jpg',\n",
       " 'animals/cats/cats_00945.jpg',\n",
       " 'animals/cats/cats_00946.jpg',\n",
       " 'animals/cats/cats_00947.jpg',\n",
       " 'animals/cats/cats_00948.jpg',\n",
       " 'animals/cats/cats_00949.jpg',\n",
       " 'animals/cats/cats_00950.jpg',\n",
       " 'animals/cats/cats_00951.jpg',\n",
       " 'animals/cats/cats_00952.jpg',\n",
       " 'animals/cats/cats_00953.jpg',\n",
       " 'animals/cats/cats_00954.jpg',\n",
       " 'animals/cats/cats_00955.jpg',\n",
       " 'animals/cats/cats_00956.jpg',\n",
       " 'animals/cats/cats_00957.jpg',\n",
       " 'animals/cats/cats_00958.jpg',\n",
       " 'animals/cats/cats_00959.jpg',\n",
       " 'animals/cats/cats_00960.jpg',\n",
       " 'animals/cats/cats_00961.jpg',\n",
       " 'animals/cats/cats_00962.jpg',\n",
       " 'animals/cats/cats_00963.jpg',\n",
       " 'animals/cats/cats_00964.jpg',\n",
       " 'animals/cats/cats_00965.jpg',\n",
       " 'animals/cats/cats_00966.jpg',\n",
       " 'animals/cats/cats_00967.jpg',\n",
       " 'animals/cats/cats_00968.jpg',\n",
       " 'animals/cats/cats_00969.jpg',\n",
       " 'animals/cats/cats_00970.jpg',\n",
       " 'animals/cats/cats_00971.jpg',\n",
       " 'animals/cats/cats_00972.jpg',\n",
       " 'animals/cats/cats_00973.jpg',\n",
       " 'animals/cats/cats_00974.jpg',\n",
       " 'animals/cats/cats_00975.jpg',\n",
       " 'animals/cats/cats_00976.jpg',\n",
       " 'animals/cats/cats_00977.jpg',\n",
       " 'animals/cats/cats_00978.jpg',\n",
       " 'animals/cats/cats_00979.jpg',\n",
       " 'animals/cats/cats_00980.jpg',\n",
       " 'animals/cats/cats_00981.jpg',\n",
       " 'animals/cats/cats_00982.jpg',\n",
       " 'animals/cats/cats_00983.jpg',\n",
       " 'animals/cats/cats_00984.jpg',\n",
       " 'animals/cats/cats_00985.jpg',\n",
       " 'animals/cats/cats_00986.jpg',\n",
       " 'animals/cats/cats_00987.jpg',\n",
       " 'animals/cats/cats_00988.jpg',\n",
       " 'animals/cats/cats_00989.jpg',\n",
       " 'animals/cats/cats_00990.jpg',\n",
       " 'animals/cats/cats_00991.jpg',\n",
       " 'animals/cats/cats_00992.jpg',\n",
       " 'animals/cats/cats_00993.jpg',\n",
       " 'animals/cats/cats_00994.jpg',\n",
       " 'animals/cats/cats_00995.jpg',\n",
       " 'animals/cats/cats_00996.jpg',\n",
       " 'animals/cats/cats_00997.jpg',\n",
       " 'animals/cats/cats_00998.jpg',\n",
       " 'animals/cats/cats_00999.jpg',\n",
       " 'animals/cats/cats_01000.jpg',\n",
       " ...]"
      ]
     },
     "execution_count": 54,
     "metadata": {},
     "output_type": "execute_result"
    }
   ],
   "source": [
    "images"
   ]
  },
  {
   "cell_type": "code",
   "execution_count": 55,
   "metadata": {},
   "outputs": [
    {
     "data": {
      "text/plain": [
       "'animals/cats/cats_00002.jpg'"
      ]
     },
     "execution_count": 55,
     "metadata": {},
     "output_type": "execute_result"
    }
   ],
   "source": [
    "images[1]"
   ]
  },
  {
   "cell_type": "code",
   "execution_count": 56,
   "metadata": {},
   "outputs": [],
   "source": [
    "labels=[]\n",
    "data=[]\n"
   ]
  },
  {
   "cell_type": "code",
   "execution_count": 57,
   "metadata": {},
   "outputs": [],
   "source": [
    "test_image=cv2.imread(images[0])"
   ]
  },
  {
   "cell_type": "code",
   "execution_count": 58,
   "metadata": {},
   "outputs": [
    {
     "data": {
      "text/plain": [
       "(374, 500, 3)"
      ]
     },
     "execution_count": 58,
     "metadata": {},
     "output_type": "execute_result"
    }
   ],
   "source": [
    "test_image.shape"
   ]
  },
  {
   "cell_type": "code",
   "execution_count": 59,
   "metadata": {},
   "outputs": [],
   "source": [
    "shape0=[]\n",
    "shape1=[]\n",
    "\n",
    "for image in images:\n",
    "    targetimage=cv2.imread(image)\n",
    "    shape0.append(targetimage.shape[0])\n",
    "    shape1.append(targetimage.shape[1])"
   ]
  },
  {
   "cell_type": "code",
   "execution_count": 60,
   "metadata": {},
   "outputs": [
    {
     "name": "stdout",
     "output_type": "stream",
     "text": [
      "32 55\n",
      "1200 1600\n"
     ]
    }
   ],
   "source": [
    "print(min(shape0),min(shape1))\n",
    "print(max(shape0),max(shape1))"
   ]
  },
  {
   "cell_type": "code",
   "execution_count": 62,
   "metadata": {},
   "outputs": [],
   "source": [
    "random.seed(20)\n",
    "random.shuffle(images)\n",
    "\n",
    "for image in images:\n",
    "    targetimage=cv2.imread(image)\n",
    "    targetimage=cv2.resize(targetimage,(32,32)).flatten()\n",
    "    data.append(targetimage)\n",
    "    labels.append(image.split('/')[1])\n",
    "    "
   ]
  },
  {
   "cell_type": "code",
   "execution_count": 63,
   "metadata": {},
   "outputs": [
    {
     "data": {
      "text/plain": [
       "'cats'"
      ]
     },
     "execution_count": 63,
     "metadata": {},
     "output_type": "execute_result"
    }
   ],
   "source": [
    "labels[2001]"
   ]
  },
  {
   "cell_type": "code",
   "execution_count": 64,
   "metadata": {},
   "outputs": [],
   "source": [
    "data=np.array(data)\n",
    "labels=np.array(labels)"
   ]
  },
  {
   "cell_type": "code",
   "execution_count": 65,
   "metadata": {},
   "outputs": [],
   "source": [
    "data=np.array(data,dtype='float')/255.0"
   ]
  },
  {
   "cell_type": "code",
   "execution_count": 66,
   "metadata": {},
   "outputs": [
    {
     "data": {
      "text/plain": [
       "array([[0.8745098 , 0.95686275, 0.96470588, ..., 0.32156863, 0.34117647,\n",
       "        0.69019608],\n",
       "       [0.34117647, 0.3372549 , 0.36078431, ..., 0.28235294, 0.35686275,\n",
       "        0.44313725],\n",
       "       [0.36470588, 0.47843137, 0.5372549 , ..., 0.23137255, 0.40784314,\n",
       "        0.60784314],\n",
       "       ...,\n",
       "       [0.04313725, 0.04313725, 0.04313725, ..., 0.11764706, 0.13333333,\n",
       "        0.1372549 ],\n",
       "       [0.27058824, 0.4       , 0.38823529, ..., 0.14509804, 0.16470588,\n",
       "        0.23921569],\n",
       "       [0.14509804, 0.24313725, 0.16470588, ..., 0.69019608, 0.6627451 ,\n",
       "        0.61568627]])"
      ]
     },
     "execution_count": 66,
     "metadata": {},
     "output_type": "execute_result"
    }
   ],
   "source": [
    "data"
   ]
  },
  {
   "cell_type": "code",
   "execution_count": 67,
   "metadata": {},
   "outputs": [
    {
     "data": {
      "text/plain": [
       "array([0.14901961, 0.22745098, 0.15686275, ..., 0.42352941, 0.58823529,\n",
       "       0.6627451 ])"
      ]
     },
     "execution_count": 67,
     "metadata": {},
     "output_type": "execute_result"
    }
   ],
   "source": [
    "data[2000]"
   ]
  },
  {
   "cell_type": "code",
   "execution_count": 68,
   "metadata": {},
   "outputs": [
    {
     "data": {
      "text/plain": [
       "'panda'"
      ]
     },
     "execution_count": 68,
     "metadata": {},
     "output_type": "execute_result"
    }
   ],
   "source": [
    "labels[2000]"
   ]
  },
  {
   "cell_type": "code",
   "execution_count": 70,
   "metadata": {},
   "outputs": [],
   "source": [
    "from sklearn.model_selection import train_test_split"
   ]
  },
  {
   "cell_type": "code",
   "execution_count": 73,
   "metadata": {},
   "outputs": [],
   "source": [
    "(trainX,testX,trainY,testY)=train_test_split(data,labels,test_size=0.20)"
   ]
  },
  {
   "cell_type": "code",
   "execution_count": 74,
   "metadata": {},
   "outputs": [
    {
     "data": {
      "text/plain": [
       "(2400, 3072)"
      ]
     },
     "execution_count": 74,
     "metadata": {},
     "output_type": "execute_result"
    }
   ],
   "source": [
    "trainX.shape"
   ]
  },
  {
   "cell_type": "code",
   "execution_count": 75,
   "metadata": {},
   "outputs": [
    {
     "data": {
      "text/plain": [
       "(600, 3072)"
      ]
     },
     "execution_count": 75,
     "metadata": {},
     "output_type": "execute_result"
    }
   ],
   "source": [
    "testX.shape"
   ]
  },
  {
   "cell_type": "code",
   "execution_count": 76,
   "metadata": {},
   "outputs": [
    {
     "name": "stdout",
     "output_type": "stream",
     "text": [
      "(2400,) (600,)\n"
     ]
    }
   ],
   "source": [
    "print(trainY.shape,testY.shape)"
   ]
  },
  {
   "cell_type": "code",
   "execution_count": 77,
   "metadata": {},
   "outputs": [],
   "source": [
    "from sklearn.preprocessing import LabelBinarizer\n"
   ]
  },
  {
   "cell_type": "code",
   "execution_count": 78,
   "metadata": {},
   "outputs": [],
   "source": [
    "lb=LabelBinarizer()\n",
    "trainY=lb.fit_transform(trainY)\n",
    "testY=lb.fit_transform(testY)"
   ]
  },
  {
   "cell_type": "code",
   "execution_count": 79,
   "metadata": {},
   "outputs": [
    {
     "data": {
      "text/plain": [
       "array([1, 0, 0])"
      ]
     },
     "execution_count": 79,
     "metadata": {},
     "output_type": "execute_result"
    }
   ],
   "source": [
    "trainY[0]"
   ]
  },
  {
   "cell_type": "markdown",
   "metadata": {},
   "source": [
    "# Steps in Preprocessing\n",
    "## 1. Randomize, Read all images and append to arrays\n",
    "## 2. Resized all the images based on minimum image size and flattened\n",
    "## 3. Split the Labels and Images into separate arrays\n",
    "## 4. Normalize each image by changing to float and dividing by 255.0 (So each pixel intensity is between 0 and 1)\n",
    "## 5. Data is split into Train and Testing \n",
    "## 6. One Hot encode the targets"
   ]
  },
  {
   "cell_type": "code",
   "execution_count": 128,
   "metadata": {},
   "outputs": [],
   "source": [
    "from keras.models import Sequential\n",
    "from keras.layers.core import Dense, Dropout\n",
    "from keras.optimizers import SGD"
   ]
  },
  {
   "cell_type": "code",
   "execution_count": 92,
   "metadata": {},
   "outputs": [],
   "source": [
    "model=Sequential()\n",
    "model.add(Dense(1024,input_shape=(3072,),activation='relu'))\n",
    "model.add(Dropout(0.2))\n",
    "model.add(Dense(512,activation='relu'))\n",
    "model.add(Dropout(0.10))\n",
    "model.add(Dense(256,activation='sigmoid'))\n",
    "model.add(Dense(3,activation='softmax'))"
   ]
  },
  {
   "cell_type": "code",
   "execution_count": 93,
   "metadata": {},
   "outputs": [],
   "source": [
    "model.compile(loss='categorical_crossentropy',optimizer=SGD(learning_rate=0.01),metrics=['accuracy'])"
   ]
  },
  {
   "cell_type": "code",
   "execution_count": 94,
   "metadata": {},
   "outputs": [
    {
     "name": "stdout",
     "output_type": "stream",
     "text": [
      "Train on 2400 samples, validate on 600 samples\n",
      "Epoch 1/50\n",
      "2400/2400 [==============================] - 4s 2ms/step - loss: 1.0910 - accuracy: 0.3837 - val_loss: 1.0345 - val_accuracy: 0.4700\n",
      "Epoch 2/50\n",
      "2400/2400 [==============================] - 3s 1ms/step - loss: 1.0021 - accuracy: 0.5138 - val_loss: 0.9641 - val_accuracy: 0.5300\n",
      "Epoch 3/50\n",
      "2400/2400 [==============================] - 3s 1ms/step - loss: 0.9381 - accuracy: 0.5433 - val_loss: 0.9188 - val_accuracy: 0.5533\n",
      "Epoch 4/50\n",
      "2400/2400 [==============================] - 3s 1ms/step - loss: 0.8990 - accuracy: 0.5621 - val_loss: 0.8884 - val_accuracy: 0.5583\n",
      "Epoch 5/50\n",
      "2400/2400 [==============================] - 3s 1ms/step - loss: 0.8734 - accuracy: 0.5696 - val_loss: 0.8764 - val_accuracy: 0.5617\n",
      "Epoch 6/50\n",
      "2400/2400 [==============================] - 3s 1ms/step - loss: 0.8519 - accuracy: 0.5738 - val_loss: 0.8847 - val_accuracy: 0.5567\n",
      "Epoch 7/50\n",
      "2400/2400 [==============================] - 3s 1ms/step - loss: 0.8396 - accuracy: 0.5813 - val_loss: 0.8449 - val_accuracy: 0.5633\n",
      "Epoch 8/50\n",
      "2400/2400 [==============================] - 3s 1ms/step - loss: 0.8228 - accuracy: 0.5950 - val_loss: 0.8401 - val_accuracy: 0.5683\n",
      "Epoch 9/50\n",
      "2400/2400 [==============================] - 3s 1ms/step - loss: 0.8137 - accuracy: 0.5892 - val_loss: 0.8197 - val_accuracy: 0.5900\n",
      "Epoch 10/50\n",
      "2400/2400 [==============================] - 3s 1ms/step - loss: 0.8060 - accuracy: 0.5917 - val_loss: 0.8190 - val_accuracy: 0.5983\n",
      "Epoch 11/50\n",
      "2400/2400 [==============================] - 3s 1ms/step - loss: 0.8039 - accuracy: 0.5929 - val_loss: 0.8210 - val_accuracy: 0.5800\n",
      "Epoch 12/50\n",
      "2400/2400 [==============================] - 3s 1ms/step - loss: 0.7845 - accuracy: 0.6096 - val_loss: 0.8190 - val_accuracy: 0.5917\n",
      "Epoch 13/50\n",
      "2400/2400 [==============================] - 3s 1ms/step - loss: 0.7780 - accuracy: 0.6162 - val_loss: 0.7986 - val_accuracy: 0.6000\n",
      "Epoch 14/50\n",
      "2400/2400 [==============================] - 3s 1ms/step - loss: 0.7722 - accuracy: 0.6162 - val_loss: 0.8412 - val_accuracy: 0.5833\n",
      "Epoch 15/50\n",
      "2400/2400 [==============================] - 3s 1ms/step - loss: 0.7663 - accuracy: 0.6283 - val_loss: 0.7947 - val_accuracy: 0.6133\n",
      "Epoch 16/50\n",
      "2400/2400 [==============================] - 4s 2ms/step - loss: 0.7576 - accuracy: 0.6383 - val_loss: 0.8018 - val_accuracy: 0.5883\n",
      "Epoch 17/50\n",
      "2400/2400 [==============================] - 3s 1ms/step - loss: 0.7521 - accuracy: 0.6425 - val_loss: 0.8054 - val_accuracy: 0.5867\n",
      "Epoch 18/50\n",
      "2400/2400 [==============================] - 3s 1ms/step - loss: 0.7364 - accuracy: 0.6429 - val_loss: 0.8312 - val_accuracy: 0.5800\n",
      "Epoch 19/50\n",
      "2400/2400 [==============================] - 3s 1ms/step - loss: 0.7332 - accuracy: 0.6471 - val_loss: 0.8618 - val_accuracy: 0.5683\n",
      "Epoch 20/50\n",
      "2400/2400 [==============================] - 3s 1ms/step - loss: 0.7212 - accuracy: 0.6475 - val_loss: 0.7913 - val_accuracy: 0.6067\n",
      "Epoch 21/50\n",
      "2400/2400 [==============================] - 4s 2ms/step - loss: 0.7081 - accuracy: 0.6658 - val_loss: 0.7813 - val_accuracy: 0.6133\n",
      "Epoch 22/50\n",
      "2400/2400 [==============================] - 3s 1ms/step - loss: 0.7002 - accuracy: 0.6612 - val_loss: 0.8103 - val_accuracy: 0.5967\n",
      "Epoch 23/50\n",
      "2400/2400 [==============================] - 3s 1ms/step - loss: 0.6846 - accuracy: 0.6942 - val_loss: 0.8386 - val_accuracy: 0.5767\n",
      "Epoch 24/50\n",
      "2400/2400 [==============================] - 3s 1ms/step - loss: 0.6844 - accuracy: 0.6692 - val_loss: 0.7843 - val_accuracy: 0.5867\n",
      "Epoch 25/50\n",
      "2400/2400 [==============================] - 3s 1ms/step - loss: 0.6766 - accuracy: 0.6675 - val_loss: 0.7610 - val_accuracy: 0.6233\n",
      "Epoch 26/50\n",
      "2400/2400 [==============================] - 3s 1ms/step - loss: 0.6718 - accuracy: 0.6725 - val_loss: 0.7569 - val_accuracy: 0.6167\n",
      "Epoch 27/50\n",
      "2400/2400 [==============================] - 3s 1ms/step - loss: 0.6521 - accuracy: 0.6913 - val_loss: 0.7722 - val_accuracy: 0.6100\n",
      "Epoch 28/50\n",
      "2400/2400 [==============================] - 4s 1ms/step - loss: 0.6479 - accuracy: 0.6979 - val_loss: 0.7717 - val_accuracy: 0.6067\n",
      "Epoch 29/50\n",
      "2400/2400 [==============================] - 3s 1ms/step - loss: 0.6379 - accuracy: 0.6963 - val_loss: 0.7705 - val_accuracy: 0.6150\n",
      "Epoch 30/50\n",
      "2400/2400 [==============================] - 3s 1ms/step - loss: 0.6329 - accuracy: 0.7017 - val_loss: 0.7520 - val_accuracy: 0.6117\n",
      "Epoch 31/50\n",
      "2400/2400 [==============================] - 4s 1ms/step - loss: 0.6163 - accuracy: 0.7054 - val_loss: 0.7582 - val_accuracy: 0.6200\n",
      "Epoch 32/50\n",
      "2400/2400 [==============================] - 4s 1ms/step - loss: 0.6084 - accuracy: 0.7113 - val_loss: 0.7448 - val_accuracy: 0.6267\n",
      "Epoch 33/50\n",
      "2400/2400 [==============================] - 3s 1ms/step - loss: 0.5979 - accuracy: 0.7300 - val_loss: 0.7545 - val_accuracy: 0.6233\n",
      "Epoch 34/50\n",
      "2400/2400 [==============================] - 3s 1ms/step - loss: 0.5948 - accuracy: 0.7233 - val_loss: 0.8226 - val_accuracy: 0.5867\n",
      "Epoch 35/50\n",
      "2400/2400 [==============================] - 3s 1ms/step - loss: 0.5825 - accuracy: 0.7354 - val_loss: 0.8415 - val_accuracy: 0.5867\n",
      "Epoch 36/50\n",
      "2400/2400 [==============================] - 3s 1ms/step - loss: 0.5783 - accuracy: 0.7221 - val_loss: 0.7679 - val_accuracy: 0.6167\n",
      "Epoch 37/50\n",
      "2400/2400 [==============================] - 3s 1ms/step - loss: 0.5666 - accuracy: 0.7362 - val_loss: 0.8254 - val_accuracy: 0.5933\n",
      "Epoch 38/50\n",
      "2400/2400 [==============================] - 4s 2ms/step - loss: 0.5507 - accuracy: 0.7479 - val_loss: 0.8506 - val_accuracy: 0.5983\n",
      "Epoch 39/50\n",
      "2400/2400 [==============================] - 3s 1ms/step - loss: 0.5516 - accuracy: 0.7417 - val_loss: 0.8330 - val_accuracy: 0.6183\n",
      "Epoch 40/50\n",
      "2400/2400 [==============================] - 3s 1ms/step - loss: 0.5461 - accuracy: 0.7483 - val_loss: 0.7835 - val_accuracy: 0.6117\n",
      "Epoch 41/50\n",
      "2400/2400 [==============================] - 3s 1ms/step - loss: 0.5237 - accuracy: 0.7538 - val_loss: 0.8215 - val_accuracy: 0.5933\n",
      "Epoch 42/50\n",
      "2400/2400 [==============================] - 3s 1ms/step - loss: 0.5279 - accuracy: 0.7717 - val_loss: 0.7592 - val_accuracy: 0.6250\n",
      "Epoch 43/50\n",
      "2400/2400 [==============================] - 3s 1ms/step - loss: 0.5152 - accuracy: 0.7763 - val_loss: 0.8402 - val_accuracy: 0.6100\n",
      "Epoch 44/50\n",
      "2400/2400 [==============================] - 4s 2ms/step - loss: 0.5040 - accuracy: 0.7671 - val_loss: 0.7797 - val_accuracy: 0.6383\n",
      "Epoch 45/50\n",
      "2400/2400 [==============================] - 4s 2ms/step - loss: 0.4909 - accuracy: 0.7733 - val_loss: 0.8463 - val_accuracy: 0.6000\n",
      "Epoch 46/50\n",
      "2400/2400 [==============================] - 3s 1ms/step - loss: 0.4818 - accuracy: 0.7821 - val_loss: 0.7957 - val_accuracy: 0.6233\n",
      "Epoch 47/50\n",
      "2400/2400 [==============================] - 4s 2ms/step - loss: 0.4937 - accuracy: 0.7767 - val_loss: 0.7584 - val_accuracy: 0.6283\n",
      "Epoch 48/50\n",
      "2400/2400 [==============================] - 4s 2ms/step - loss: 0.4791 - accuracy: 0.7850 - val_loss: 0.7894 - val_accuracy: 0.6217\n",
      "Epoch 49/50\n",
      "2400/2400 [==============================] - 3s 1ms/step - loss: 0.4740 - accuracy: 0.7858 - val_loss: 0.8125 - val_accuracy: 0.6133\n",
      "Epoch 50/50\n",
      "2400/2400 [==============================] - 3s 1ms/step - loss: 0.4463 - accuracy: 0.8062 - val_loss: 0.8049 - val_accuracy: 0.6300\n"
     ]
    }
   ],
   "source": [
    "history=model.fit(trainX,trainY,validation_data=(testX,testY),epochs=50,batch_size=32)"
   ]
  },
  {
   "cell_type": "code",
   "execution_count": 96,
   "metadata": {},
   "outputs": [
    {
     "data": {
      "text/plain": [
       "array([[1.3752201e-01, 2.2958636e-01, 6.3289160e-01],\n",
       "       [7.9528689e-01, 2.0400304e-01, 7.1007799e-04],\n",
       "       [7.3056787e-01, 2.6391196e-01, 5.5202665e-03],\n",
       "       ...,\n",
       "       [7.0464474e-01, 2.9506940e-01, 2.8587686e-04],\n",
       "       [5.4638487e-01, 4.5201313e-01, 1.6019671e-03],\n",
       "       [3.5267377e-01, 6.4329541e-01, 4.0308447e-03]], dtype=float32)"
      ]
     },
     "execution_count": 96,
     "metadata": {},
     "output_type": "execute_result"
    }
   ],
   "source": [
    "model.predict(testX)"
   ]
  },
  {
   "cell_type": "code",
   "execution_count": 97,
   "metadata": {},
   "outputs": [
    {
     "data": {
      "text/plain": [
       "array([[0, 0, 1],\n",
       "       [1, 0, 0],\n",
       "       [1, 0, 0],\n",
       "       ...,\n",
       "       [0, 1, 0],\n",
       "       [1, 0, 0],\n",
       "       [0, 1, 0]])"
      ]
     },
     "execution_count": 97,
     "metadata": {},
     "output_type": "execute_result"
    }
   ],
   "source": [
    "testY"
   ]
  },
  {
   "cell_type": "code",
   "execution_count": 98,
   "metadata": {},
   "outputs": [],
   "source": [
    "target_image=cv2.imread('/Users/praveenkumar/Downloads/Pembroke-Welsh-Corgi-standing-outdoors-in-the-fall.jpg')"
   ]
  },
  {
   "cell_type": "code",
   "execution_count": 101,
   "metadata": {},
   "outputs": [
    {
     "data": {
      "image/png": "[encoded data removed]",
      "text/plain": [
       "<Figure size 432x288 with 1 Axes>"
      ]
     },
     "metadata": {
      "needs_background": "light"
     },
     "output_type": "display_data"
    }
   ],
   "source": [
    "import matplotlib.pyplot as plt\n",
    "plt.imshow(target_image)\n",
    "plt.show()"
   ]
  },
  {
   "cell_type": "code",
   "execution_count": 104,
   "metadata": {},
   "outputs": [],
   "source": [
    "target_image=cv2.resize(target_image,(32,32))"
   ]
  },
  {
   "cell_type": "code",
   "execution_count": 106,
   "metadata": {},
   "outputs": [
    {
     "data": {
      "text/plain": [
       "(32, 32, 3)"
      ]
     },
     "execution_count": 106,
     "metadata": {},
     "output_type": "execute_result"
    }
   ],
   "source": [
    "target_image.shape"
   ]
  },
  {
   "cell_type": "code",
   "execution_count": 107,
   "metadata": {},
   "outputs": [],
   "source": [
    "target_image=target_image.flatten()"
   ]
  },
  {
   "cell_type": "code",
   "execution_count": 109,
   "metadata": {},
   "outputs": [],
   "source": [
    "target_image=target_image.astype('float')/255"
   ]
  },
  {
   "cell_type": "code",
   "execution_count": 110,
   "metadata": {},
   "outputs": [
    {
     "data": {
      "text/plain": [
       "array([0.30980392, 0.36862745, 0.40392157, ..., 0.21176471, 0.27843137,\n",
       "       0.28235294])"
      ]
     },
     "execution_count": 110,
     "metadata": {},
     "output_type": "execute_result"
    }
   ],
   "source": [
    "target_image"
   ]
  },
  {
   "cell_type": "code",
   "execution_count": 111,
   "metadata": {},
   "outputs": [
    {
     "data": {
      "text/plain": [
       "(3072,)"
      ]
     },
     "execution_count": 111,
     "metadata": {},
     "output_type": "execute_result"
    }
   ],
   "source": [
    "target_image.shape"
   ]
  },
  {
   "cell_type": "code",
   "execution_count": 113,
   "metadata": {},
   "outputs": [
    {
     "data": {
      "text/plain": [
       "array([[3.3006245e-01, 6.6954160e-01, 3.9597263e-04]], dtype=float32)"
      ]
     },
     "execution_count": 113,
     "metadata": {},
     "output_type": "execute_result"
    }
   ],
   "source": [
    "model.predict(target_image.reshape(1,3072))"
   ]
  },
  {
   "cell_type": "code",
   "execution_count": 114,
   "metadata": {},
   "outputs": [],
   "source": [
    "model.save('dogpandaclassifier.h5')"
   ]
  },
  {
   "cell_type": "code",
   "execution_count": null,
   "metadata": {},
   "outputs": [],
   "source": []
  },
  {
   "cell_type": "code",
   "execution_count": null,
   "metadata": {},
   "outputs": [],
   "source": []
  },
  {
   "cell_type": "code",
   "execution_count": null,
   "metadata": {},
   "outputs": [],
   "source": []
  },
  {
   "cell_type": "markdown",
   "metadata": {},
   "source": [
    "1. Read about Pneumonia\n",
    "2. Search for Pneumonia Datasets\n",
    "\n",
    "\n",
    "1. Play with the Dog cat Panda classifier- Optimize it for an accuracy >90"
   ]
  },
  {
   "cell_type": "code",
   "execution_count": 124,
   "metadata": {},
   "outputs": [],
   "source": [
    "from keras.preprocessing.image import ImageDataGenerator\n",
    "\n",
    "training_generator=ImageDataGenerator(rescale=1./255,validation_split=0.25)"
   ]
  },
  {
   "cell_type": "code",
   "execution_count": 125,
   "metadata": {},
   "outputs": [
    {
     "data": {
      "text/plain": [
       "keras_preprocessing.image.directory_iterator.DirectoryIterator"
      ]
     },
     "execution_count": 125,
     "metadata": {},
     "output_type": "execute_result"
    }
   ],
   "source": [
    "type(train_generator)"
   ]
  },
  {
   "cell_type": "code",
   "execution_count": 126,
   "metadata": {},
   "outputs": [
    {
     "name": "stdout",
     "output_type": "stream",
     "text": [
      "Found 2250 images belonging to 3 classes.\n"
     ]
    }
   ],
   "source": [
    "training=training_generator.flow_from_directory('animals/',target_size=(150,150),\n",
    "                                                batch_size=15,class_mode='categorical',subset='training')"
   ]
  },
  {
   "cell_type": "code",
   "execution_count": 127,
   "metadata": {},
   "outputs": [
    {
     "name": "stdout",
     "output_type": "stream",
     "text": [
      "Found 750 images belonging to 3 classes.\n"
     ]
    }
   ],
   "source": [
    "validation=training_generator.flow_from_directory('animals/',target_size=(150,150),\n",
    "                                                batch_size=15,class_mode='categorical',subset='validation')"
   ]
  },
  {
   "cell_type": "code",
   "execution_count": 129,
   "metadata": {},
   "outputs": [],
   "source": [
    "import tensorflow as tf\n"
   ]
  },
  {
   "cell_type": "code",
   "execution_count": 131,
   "metadata": {},
   "outputs": [],
   "source": [
    "# First Convolution Layer\n",
    "model=tf.keras.models.Sequential([tf.keras.layers.Conv2D(16,(3,3),input_shape=(150,150,3),activation='relu'),\n",
    "                                 tf.keras.layers.MaxPool2D(2,2),\n",
    "                                 tf.keras.layers.Dropout(0.15),\n",
    "                                  #Second Convolution Layer\n",
    "                                  tf.keras.layers.Conv2D(32,(3,3),activation='relu'),\n",
    "                                  tf.keras.layers.MaxPool2D(2,2),\n",
    "                                  tf.keras.layers.Dropout(0.1),\n",
    "                                  #Third Convolution Layer\n",
    "                                  tf.keras.layers.Conv2D(64,(3,3),activation='relu'),\n",
    "                                  tf.keras.layers.MaxPool2D(2,2),\n",
    "                                  tf.keras.layers.Dropout(0.1),\n",
    "                                  #Flattening Layer\n",
    "                                  tf.keras.layers.Flatten(),\n",
    "                                  # Dense 1\n",
    "                                  tf.keras.layers.Dense(512,activation='relu'),\n",
    "                                  #Dense2/Output Layer\n",
    "                                  tf.keras.layers.Dense(3,activation='softmax')\n",
    "                                  \n",
    "                                 ])"
   ]
  },
  {
   "cell_type": "code",
   "execution_count": 132,
   "metadata": {},
   "outputs": [],
   "source": [
    "model.compile(loss='categorical_crossentropy',optimizer='adam',metrics=['acc'])"
   ]
  },
  {
   "cell_type": "code",
   "execution_count": 133,
   "metadata": {},
   "outputs": [
    {
     "name": "stdout",
     "output_type": "stream",
     "text": [
      "Train for 150 steps, validate for 50 steps\n",
      "Epoch 1/20\n",
      "150/150 [==============================] - 68s 456ms/step - loss: 1.0517 - acc: 0.5560 - val_loss: 0.7657 - val_acc: 0.6280\n",
      "Epoch 2/20\n",
      "150/150 [==============================] - 58s 387ms/step - loss: 0.7071 - acc: 0.6382 - val_loss: 0.8150 - val_acc: 0.5960\n",
      "Epoch 3/20\n",
      "150/150 [==============================] - 56s 373ms/step - loss: 0.6209 - acc: 0.6782 - val_loss: 0.7502 - val_acc: 0.6480\n",
      "Epoch 4/20\n",
      "150/150 [==============================] - 57s 377ms/step - loss: 0.5311 - acc: 0.7444 - val_loss: 0.6368 - val_acc: 0.6933\n",
      "Epoch 5/20\n",
      "150/150 [==============================] - 56s 373ms/step - loss: 0.4702 - acc: 0.7849 - val_loss: 0.7269 - val_acc: 0.6840\n",
      "Epoch 6/20\n",
      "150/150 [==============================] - 59s 394ms/step - loss: 0.3690 - acc: 0.8307 - val_loss: 0.8102 - val_acc: 0.6800\n",
      "Epoch 7/20\n",
      "150/150 [==============================] - 56s 373ms/step - loss: 0.3263 - acc: 0.8636 - val_loss: 0.8287 - val_acc: 0.6613\n",
      "Epoch 8/20\n",
      "150/150 [==============================] - 65s 433ms/step - loss: 0.2625 - acc: 0.8862 - val_loss: 0.8338 - val_acc: 0.7027\n",
      "Epoch 9/20\n",
      "150/150 [==============================] - 60s 400ms/step - loss: 0.1837 - acc: 0.9209 - val_loss: 0.9792 - val_acc: 0.6840\n",
      "Epoch 10/20\n",
      "150/150 [==============================] - 62s 416ms/step - loss: 0.1823 - acc: 0.9293 - val_loss: 1.0783 - val_acc: 0.6907\n",
      "Epoch 11/20\n",
      "150/150 [==============================] - 65s 434ms/step - loss: 0.1421 - acc: 0.9458 - val_loss: 1.2827 - val_acc: 0.6440\n",
      "Epoch 12/20\n",
      "150/150 [==============================] - 66s 438ms/step - loss: 0.1283 - acc: 0.9507 - val_loss: 1.1313 - val_acc: 0.6960\n",
      "Epoch 13/20\n",
      "150/150 [==============================] - 62s 410ms/step - loss: 0.0781 - acc: 0.9711 - val_loss: 1.2488 - val_acc: 0.7160\n",
      "Epoch 14/20\n",
      "150/150 [==============================] - 67s 444ms/step - loss: 0.0534 - acc: 0.9827 - val_loss: 1.4087 - val_acc: 0.6800\n",
      "Epoch 15/20\n",
      "150/150 [==============================] - 63s 421ms/step - loss: 0.0581 - acc: 0.9822 - val_loss: 1.6503 - val_acc: 0.6827\n",
      "Epoch 16/20\n",
      "150/150 [==============================] - 64s 428ms/step - loss: 0.0317 - acc: 0.9889 - val_loss: 1.6668 - val_acc: 0.6827\n",
      "Epoch 17/20\n",
      "150/150 [==============================] - 61s 404ms/step - loss: 0.0704 - acc: 0.9747 - val_loss: 1.4735 - val_acc: 0.6773\n",
      "Epoch 18/20\n",
      "150/150 [==============================] - 58s 384ms/step - loss: 0.0453 - acc: 0.9840 - val_loss: 2.0693 - val_acc: 0.6773\n",
      "Epoch 19/20\n",
      "150/150 [==============================] - 59s 395ms/step - loss: 0.0423 - acc: 0.9876 - val_loss: 1.7650 - val_acc: 0.6760\n",
      "Epoch 20/20\n",
      "150/150 [==============================] - 58s 386ms/step - loss: 0.0582 - acc: 0.9813 - val_loss: 1.8123 - val_acc: 0.6640\n"
     ]
    }
   ],
   "source": [
    "history=model.fit(training,validation_data=validation,epochs=20)"
   ]
  },
  {
   "cell_type": "code",
   "execution_count": null,
   "metadata": {},
   "outputs": [],
   "source": []
  }
 ],
 "metadata": {
  "kernelspec": {
   "display_name": "Python 3",
   "language": "python",
   "name": "python3"
  },
  "language_info": {
   "codemirror_mode": {
    "name": "ipython",
    "version": 3
   },
   "file_extension": ".py",
   "mimetype": "text/x-python",
   "name": "python",
   "nbconvert_exporter": "python",
   "pygments_lexer": "ipython3",
   "version": "3.5.6"
  }
 },
 "nbformat": 4,
 "nbformat_minor": 2
}
