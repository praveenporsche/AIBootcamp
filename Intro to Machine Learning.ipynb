{
 "cells": [
  {
   "cell_type": "code",
   "execution_count": 2,
   "metadata": {},
   "outputs": [
    {
     "name": "stdout",
     "output_type": "stream",
     "text": [
      "1\n",
      "2\n",
      "3\n",
      "4\n",
      "5\n",
      "6\n",
      "7\n",
      "8\n",
      "9\n",
      "10\n"
     ]
    }
   ],
   "source": [
    "# Condition Statements:\n",
    "## Create a Condition statement using While, to print numbers from 1 to 10\n",
    "count = 1\n",
    "while True:\n",
    "    print(count)\n",
    "    count += 1\n",
    "    if count >= 11:\n",
    "        break\n"
   ]
  },
  {
   "cell_type": "code",
   "execution_count": 4,
   "metadata": {},
   "outputs": [
    {
     "name": "stdout",
     "output_type": "stream",
     "text": [
      "50\n",
      "52\n",
      "54\n",
      "56\n",
      "58\n",
      "60\n",
      "62\n",
      "64\n",
      "66\n",
      "68\n",
      "70\n",
      "72\n",
      "74\n",
      "76\n",
      "78\n",
      "80\n",
      "82\n",
      "84\n",
      "86\n",
      "88\n",
      "90\n",
      "92\n",
      "94\n",
      "96\n",
      "98\n"
     ]
    }
   ],
   "source": [
    "## Create a condition statement using if, else, while to print the even numbers from 50 to 100.\n",
    "\n",
    "for x in range(50,100):\n",
    "    # Check if x is even\n",
    "    if x % 2 != 0:\n",
    "        continue\n",
    "    print(x)"
   ]
  },
  {
   "cell_type": "code",
   "execution_count": 6,
   "metadata": {},
   "outputs": [
    {
     "name": "stdout",
     "output_type": "stream",
     "text": [
      "6\n",
      "alset\n"
     ]
    }
   ],
   "source": [
    "#Functions:\n",
    "#Create a function to find the maximum of three numbers \n",
    "\n",
    "def max_of_two( x, y ):\n",
    "    if x > y:\n",
    "        return x\n",
    "    return y\n",
    "def max_of_three( x, y, z ):\n",
    "    return max_of_two( x, max_of_two( y, z ) )\n",
    "print(max_of_three(3, 6, -5))\n",
    "\n",
    "\n",
    "# Create a function to reverse a given string\n",
    "\n",
    "def reversestring(string):\n",
    "    new_string=''\n",
    "    index=len(string)\n",
    "    while index:\n",
    "        new_string+=string[index-1]\n",
    "        index-=1\n",
    "    return new_string\n",
    "print(reversestring('tesla'))"
   ]
  },
  {
   "cell_type": "code",
   "execution_count": 10,
   "metadata": {},
   "outputs": [
    {
     "name": "stdout",
     "output_type": "stream",
     "text": [
      "0 Minutes 0 Seconds\n",
      "0 Minutes 1 Seconds\n",
      "0 Minutes 2 Seconds\n",
      "0 Minutes 3 Seconds\n",
      "0 Minutes 4 Seconds\n",
      "0 Minutes 5 Seconds\n"
     ]
    }
   ],
   "source": [
    "import time\n",
    "import sys\n",
    "\n",
    "\n",
    "time.time()\n",
    "time.localtime()\n",
    "time.asctime()\n",
    "\n",
    "\n",
    "def timer():\n",
    "    time_start = time.time()\n",
    "    seconds = 0\n",
    "    minutes = 0\n",
    "\n",
    "    while True:\n",
    "        try:\n",
    "            print(\"{minutes} Minutes {seconds} Seconds\".format(minutes=minutes, seconds=seconds))\n",
    "            time.sleep(1)\n",
    "            seconds = int(time.time() - time_start) - minutes * 60\n",
    "            if seconds >= 60:\n",
    "                minutes += 1\n",
    "                seconds = 0\n",
    "        except KeyboardInterrupt, e:\n",
    "            break\n",
    "timer()\n"
   ]
  },
  {
   "cell_type": "code",
   "execution_count": 31,
   "metadata": {
    "collapsed": true
   },
   "outputs": [],
   "source": [
    "##conda install -c menpo opencv\n",
    "\n",
    "import numpy as np\n",
    "\n",
    "a=np.array([1,2,3,4])\n",
    "a.ndim\n",
    "\n",
    "url=\"https://raw.githubusercontent.com/jbrownlee/Datasets/master/iris.csv\"\n",
    "names=['sepal-length','sepal-width','petal-length','petal-width','class']\n"
   ]
  },
  {
   "cell_type": "code",
   "execution_count": 1,
   "metadata": {},
   "outputs": [
    {
     "data": {
      "text/plain": [
       "<Figure size 640x480 with 1 Axes>"
      ]
     },
     "metadata": {},
     "output_type": "display_data"
    },
    {
     "data": {
      "text/plain": [
       "SVC(C=1.0, cache_size=200, class_weight=None, coef0=0.0,\n",
       "    decision_function_shape='ovr', degree=3, gamma='auto_deprecated',\n",
       "    kernel='linear', max_iter=-1, probability=False, random_state=None,\n",
       "    shrinking=True, tol=0.001, verbose=False)"
      ]
     },
     "execution_count": 1,
     "metadata": {},
     "output_type": "execute_result"
    }
   ],
   "source": [
    "\n",
    "\n",
    "# Classification based on SVM\n",
    "\n",
    "from sklearn import svm\n",
    "import matplotlib.pyplot as plt\n",
    "from matplotlib import style\n",
    "import numpy as np\n",
    "style.use(\"ggplot\")\n",
    "\n",
    "x=[1,5,1.5,8,1,9]\n",
    "y=[2,8,1.8,8,0.6,11]\n",
    "\n",
    "plt.scatter(x,y)\n",
    "plt.show()\n",
    "\n",
    "X=np.array([[1,2],[5,8],[1.5,1.8],[8,8],[1,0.6],[9,11]])\n",
    "y=[0,1,0,1,0,1]\n",
    "\n",
    "\n",
    "clf=svm.SVC(kernel='linear',C=1.0)\n",
    "clf.fit(X,y)\n",
    "\n"
   ]
  },
  {
   "cell_type": "code",
   "execution_count": 3,
   "metadata": {},
   "outputs": [
    {
     "data": {
      "text/plain": [
       "array([1])"
      ]
     },
     "execution_count": 3,
     "metadata": {},
     "output_type": "execute_result"
    }
   ],
   "source": [
    "\n",
    "clf.predict([[6.,6.]])"
   ]
  },
  {
   "cell_type": "code",
   "execution_count": 28,
   "metadata": {},
   "outputs": [
    {
     "data": {
      "image/png": "[encoded data removed]",
      "text/plain": [
       "<matplotlib.figure.Figure at 0x115420a90>"
      ]
     },
     "metadata": {},
     "output_type": "display_data"
    }
   ],
   "source": [
    "w=clf.coef_[0]\n",
    "a=-w[0]/w[1]\n",
    "xx=np.linspace(0,12)\n",
    "yy=a*xx-clf.intercept_[0]/w[1]\n",
    "h1=plt.plot(xx,yy,'k-',label='non-weighted div')\n",
    "plt.scatter(X[:,0],X[:,1],c=y)\n",
    "plt.legend()\n",
    "plt.show()"
   ]
  },
  {
   "cell_type": "code",
   "execution_count": null,
   "metadata": {
    "collapsed": true
   },
   "outputs": [],
   "source": []
  }
 ],
 "metadata": {
  "kernelspec": {
   "display_name": "Python 3",
   "language": "python",
   "name": "python3"
  },
  "language_info": {
   "codemirror_mode": {
    "name": "ipython",
    "version": 3
   },
   "file_extension": ".py",
   "mimetype": "text/x-python",
   "name": "python",
   "nbconvert_exporter": "python",
   "pygments_lexer": "ipython3",
   "version": "3.7.4"
  }
 },
 "nbformat": 4,
 "nbformat_minor": 2
}
